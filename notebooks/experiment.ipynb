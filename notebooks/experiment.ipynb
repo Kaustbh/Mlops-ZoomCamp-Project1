{
 "cells": [
  {
   "cell_type": "code",
   "execution_count": 1,
   "metadata": {},
   "outputs": [
    {
     "name": "stderr",
     "output_type": "stream",
     "text": [
      "/home/kaustubh/.local/share/virtualenvs/project_1-4NMMvVlY/lib/python3.12/site-packages/tqdm/auto.py:21: TqdmWarning: IProgress not found. Please update jupyter and ipywidgets. See https://ipywidgets.readthedocs.io/en/stable/user_install.html\n",
      "  from .autonotebook import tqdm as notebook_tqdm\n"
     ]
    }
   ],
   "source": [
    "from pathlib import Path\n",
    "from datetime import datetime\n",
    "import yaml\n",
    "import mlflow\n",
    "import numpy as np\n",
    "import pandas as pd\n",
    "from prefect import flow, task, get_run_logger\n",
    "from mlflow.entities import ViewType\n",
    "from mlflow.tracking import MlflowClient\n",
    "from optuna.samplers import TPESampler\n",
    "from hyperopt import STATUS_OK, Trials, fmin, hp, tpe\n",
    "from hyperopt.pyll import scope\n",
    "from sklearn.metrics import mean_squared_error\n",
    "from mlflow.models.signature import infer_signature\n",
    "import pickle"
   ]
  },
  {
   "cell_type": "code",
   "execution_count": 12,
   "metadata": {},
   "outputs": [],
   "source": [
    "MLFLOW_TRACKING_URI=\"sqlite:////home/kaustubh/mlops_zoomcamp/final_project/project_1/mlflow.db\"\n",
    "\n",
    "client = MlflowClient(tracking_uri=MLFLOW_TRACKING_URI)"
   ]
  },
  {
   "cell_type": "code",
   "execution_count": 13,
   "metadata": {},
   "outputs": [
    {
     "data": {
      "text/plain": [
       "<Experiment: artifact_location='/home/kaustubh/mlops_zoomcamp/final_project/project_1/mlruns/1', creation_time=1722408634905, experiment_id='1', last_update_time=1722408634905, lifecycle_stage='active', name='training-pipeline', tags={}>"
      ]
     },
     "execution_count": 13,
     "metadata": {},
     "output_type": "execute_result"
    }
   ],
   "source": [
    "mlflow.set_tracking_uri(MLFLOW_TRACKING_URI)\n",
    "mlflow.set_experiment(\"training-pipeline\")"
   ]
  },
  {
   "cell_type": "code",
   "execution_count": 14,
   "metadata": {},
   "outputs": [],
   "source": [
    "logged_model = \"runs:/48d9511ef73d4aa2b3e9987aebd5f289/model\""
   ]
  },
  {
   "cell_type": "code",
   "execution_count": 15,
   "metadata": {},
   "outputs": [],
   "source": [
    "import mlflow.sklearn\n",
    "model = mlflow.sklearn.load_model(logged_model)"
   ]
  },
  {
   "cell_type": "code",
   "execution_count": 21,
   "metadata": {},
   "outputs": [],
   "source": [
    "df = pd.read_parquet(\"/home/kaustubh/mlops_zoomcamp/final_project/project_1/data/processed/train.parquet\")"
   ]
  },
  {
   "cell_type": "code",
   "execution_count": 22,
   "metadata": {},
   "outputs": [
    {
     "data": {
      "text/html": [
       "<div>\n",
       "<style scoped>\n",
       "    .dataframe tbody tr th:only-of-type {\n",
       "        vertical-align: middle;\n",
       "    }\n",
       "\n",
       "    .dataframe tbody tr th {\n",
       "        vertical-align: top;\n",
       "    }\n",
       "\n",
       "    .dataframe thead th {\n",
       "        text-align: right;\n",
       "    }\n",
       "</style>\n",
       "<table border=\"1\" class=\"dataframe\">\n",
       "  <thead>\n",
       "    <tr style=\"text-align: right;\">\n",
       "      <th></th>\n",
       "      <th>Sex</th>\n",
       "      <th>Length</th>\n",
       "      <th>Diameter</th>\n",
       "      <th>Height</th>\n",
       "      <th>Weight</th>\n",
       "      <th>Shucked Weight</th>\n",
       "      <th>Viscera Weight</th>\n",
       "      <th>Shell Weight</th>\n",
       "      <th>Age</th>\n",
       "    </tr>\n",
       "  </thead>\n",
       "  <tbody>\n",
       "    <tr>\n",
       "      <th>0</th>\n",
       "      <td>M</td>\n",
       "      <td>1.7000</td>\n",
       "      <td>1.3625</td>\n",
       "      <td>0.4375</td>\n",
       "      <td>50.391236</td>\n",
       "      <td>20.000572</td>\n",
       "      <td>10.701936</td>\n",
       "      <td>13.182517</td>\n",
       "      <td>17.0</td>\n",
       "    </tr>\n",
       "    <tr>\n",
       "      <th>1</th>\n",
       "      <td>M</td>\n",
       "      <td>1.4250</td>\n",
       "      <td>1.1125</td>\n",
       "      <td>0.3500</td>\n",
       "      <td>22.410280</td>\n",
       "      <td>9.525432</td>\n",
       "      <td>5.173784</td>\n",
       "      <td>5.953395</td>\n",
       "      <td>9.0</td>\n",
       "    </tr>\n",
       "    <tr>\n",
       "      <th>2</th>\n",
       "      <td>I</td>\n",
       "      <td>0.9875</td>\n",
       "      <td>0.7375</td>\n",
       "      <td>0.2375</td>\n",
       "      <td>7.909510</td>\n",
       "      <td>3.061746</td>\n",
       "      <td>1.516698</td>\n",
       "      <td>2.267960</td>\n",
       "      <td>7.0</td>\n",
       "    </tr>\n",
       "    <tr>\n",
       "      <th>3</th>\n",
       "      <td>F</td>\n",
       "      <td>1.5625</td>\n",
       "      <td>1.2250</td>\n",
       "      <td>0.3875</td>\n",
       "      <td>31.184450</td>\n",
       "      <td>14.033003</td>\n",
       "      <td>6.307764</td>\n",
       "      <td>9.355335</td>\n",
       "      <td>10.0</td>\n",
       "    </tr>\n",
       "    <tr>\n",
       "      <th>4</th>\n",
       "      <td>I</td>\n",
       "      <td>1.0875</td>\n",
       "      <td>0.8125</td>\n",
       "      <td>0.2625</td>\n",
       "      <td>11.892615</td>\n",
       "      <td>5.499803</td>\n",
       "      <td>2.849125</td>\n",
       "      <td>3.543687</td>\n",
       "      <td>12.0</td>\n",
       "    </tr>\n",
       "  </tbody>\n",
       "</table>\n",
       "</div>"
      ],
      "text/plain": [
       "  Sex  Length  Diameter  Height     Weight  Shucked Weight  Viscera Weight  \\\n",
       "0   M  1.7000    1.3625  0.4375  50.391236       20.000572       10.701936   \n",
       "1   M  1.4250    1.1125  0.3500  22.410280        9.525432        5.173784   \n",
       "2   I  0.9875    0.7375  0.2375   7.909510        3.061746        1.516698   \n",
       "3   F  1.5625    1.2250  0.3875  31.184450       14.033003        6.307764   \n",
       "4   I  1.0875    0.8125  0.2625  11.892615        5.499803        2.849125   \n",
       "\n",
       "   Shell Weight   Age  \n",
       "0     13.182517  17.0  \n",
       "1      5.953395   9.0  \n",
       "2      2.267960   7.0  \n",
       "3      9.355335  10.0  \n",
       "4      3.543687  12.0  "
      ]
     },
     "execution_count": 22,
     "metadata": {},
     "output_type": "execute_result"
    }
   ],
   "source": [
    "df.head()"
   ]
  },
  {
   "cell_type": "code",
   "execution_count": 20,
   "metadata": {},
   "outputs": [],
   "source": [
    "y_train = df[\"Age\"].values"
   ]
  },
  {
   "cell_type": "code",
   "execution_count": 18,
   "metadata": {},
   "outputs": [
    {
     "data": {
      "text/plain": [
       "array([17.,  9.,  7., ..., 10.,  9., 13.])"
      ]
     },
     "execution_count": 18,
     "metadata": {},
     "output_type": "execute_result"
    }
   ],
   "source": [
    "y_train"
   ]
  },
  {
   "cell_type": "code",
   "execution_count": 6,
   "metadata": {},
   "outputs": [
    {
     "data": {
      "text/html": [
       "<div>\n",
       "<style scoped>\n",
       "    .dataframe tbody tr th:only-of-type {\n",
       "        vertical-align: middle;\n",
       "    }\n",
       "\n",
       "    .dataframe tbody tr th {\n",
       "        vertical-align: top;\n",
       "    }\n",
       "\n",
       "    .dataframe thead th {\n",
       "        text-align: right;\n",
       "    }\n",
       "</style>\n",
       "<table border=\"1\" class=\"dataframe\">\n",
       "  <thead>\n",
       "    <tr style=\"text-align: right;\">\n",
       "      <th></th>\n",
       "      <th>Sex</th>\n",
       "      <th>Length</th>\n",
       "      <th>Diameter</th>\n",
       "      <th>Height</th>\n",
       "      <th>Weight</th>\n",
       "      <th>Shucked Weight</th>\n",
       "      <th>Viscera Weight</th>\n",
       "      <th>Shell Weight</th>\n",
       "      <th>Age</th>\n",
       "    </tr>\n",
       "  </thead>\n",
       "  <tbody>\n",
       "    <tr>\n",
       "      <th>0</th>\n",
       "      <td>M</td>\n",
       "      <td>1.7000</td>\n",
       "      <td>1.3625</td>\n",
       "      <td>0.4375</td>\n",
       "      <td>50.391236</td>\n",
       "      <td>20.000572</td>\n",
       "      <td>10.701936</td>\n",
       "      <td>13.182517</td>\n",
       "      <td>17.0</td>\n",
       "    </tr>\n",
       "    <tr>\n",
       "      <th>1</th>\n",
       "      <td>M</td>\n",
       "      <td>1.4250</td>\n",
       "      <td>1.1125</td>\n",
       "      <td>0.3500</td>\n",
       "      <td>22.410280</td>\n",
       "      <td>9.525432</td>\n",
       "      <td>5.173784</td>\n",
       "      <td>5.953395</td>\n",
       "      <td>9.0</td>\n",
       "    </tr>\n",
       "    <tr>\n",
       "      <th>2</th>\n",
       "      <td>I</td>\n",
       "      <td>0.9875</td>\n",
       "      <td>0.7375</td>\n",
       "      <td>0.2375</td>\n",
       "      <td>7.909510</td>\n",
       "      <td>3.061746</td>\n",
       "      <td>1.516698</td>\n",
       "      <td>2.267960</td>\n",
       "      <td>7.0</td>\n",
       "    </tr>\n",
       "    <tr>\n",
       "      <th>3</th>\n",
       "      <td>F</td>\n",
       "      <td>1.5625</td>\n",
       "      <td>1.2250</td>\n",
       "      <td>0.3875</td>\n",
       "      <td>31.184450</td>\n",
       "      <td>14.033003</td>\n",
       "      <td>6.307764</td>\n",
       "      <td>9.355335</td>\n",
       "      <td>10.0</td>\n",
       "    </tr>\n",
       "    <tr>\n",
       "      <th>4</th>\n",
       "      <td>I</td>\n",
       "      <td>1.0875</td>\n",
       "      <td>0.8125</td>\n",
       "      <td>0.2625</td>\n",
       "      <td>11.892615</td>\n",
       "      <td>5.499803</td>\n",
       "      <td>2.849125</td>\n",
       "      <td>3.543687</td>\n",
       "      <td>12.0</td>\n",
       "    </tr>\n",
       "  </tbody>\n",
       "</table>\n",
       "</div>"
      ],
      "text/plain": [
       "  Sex  Length  Diameter  Height     Weight  Shucked Weight  Viscera Weight  \\\n",
       "0   M  1.7000    1.3625  0.4375  50.391236       20.000572       10.701936   \n",
       "1   M  1.4250    1.1125  0.3500  22.410280        9.525432        5.173784   \n",
       "2   I  0.9875    0.7375  0.2375   7.909510        3.061746        1.516698   \n",
       "3   F  1.5625    1.2250  0.3875  31.184450       14.033003        6.307764   \n",
       "4   I  1.0875    0.8125  0.2625  11.892615        5.499803        2.849125   \n",
       "\n",
       "   Shell Weight   Age  \n",
       "0     13.182517  17.0  \n",
       "1      5.953395   9.0  \n",
       "2      2.267960   7.0  \n",
       "3      9.355335  10.0  \n",
       "4      3.543687  12.0  "
      ]
     },
     "execution_count": 6,
     "metadata": {},
     "output_type": "execute_result"
    }
   ],
   "source": [
    "df.head()"
   ]
  },
  {
   "cell_type": "code",
   "execution_count": 7,
   "metadata": {},
   "outputs": [],
   "source": [
    "X_train = df.drop(columns=['Age'])"
   ]
  },
  {
   "cell_type": "code",
   "execution_count": 8,
   "metadata": {},
   "outputs": [
    {
     "data": {
      "text/html": [
       "<div>\n",
       "<style scoped>\n",
       "    .dataframe tbody tr th:only-of-type {\n",
       "        vertical-align: middle;\n",
       "    }\n",
       "\n",
       "    .dataframe tbody tr th {\n",
       "        vertical-align: top;\n",
       "    }\n",
       "\n",
       "    .dataframe thead th {\n",
       "        text-align: right;\n",
       "    }\n",
       "</style>\n",
       "<table border=\"1\" class=\"dataframe\">\n",
       "  <thead>\n",
       "    <tr style=\"text-align: right;\">\n",
       "      <th></th>\n",
       "      <th>Sex</th>\n",
       "      <th>Length</th>\n",
       "      <th>Diameter</th>\n",
       "      <th>Height</th>\n",
       "      <th>Weight</th>\n",
       "      <th>Shucked Weight</th>\n",
       "      <th>Viscera Weight</th>\n",
       "      <th>Shell Weight</th>\n",
       "    </tr>\n",
       "  </thead>\n",
       "  <tbody>\n",
       "    <tr>\n",
       "      <th>0</th>\n",
       "      <td>M</td>\n",
       "      <td>1.7000</td>\n",
       "      <td>1.3625</td>\n",
       "      <td>0.4375</td>\n",
       "      <td>50.391236</td>\n",
       "      <td>20.000572</td>\n",
       "      <td>10.701936</td>\n",
       "      <td>13.182517</td>\n",
       "    </tr>\n",
       "    <tr>\n",
       "      <th>1</th>\n",
       "      <td>M</td>\n",
       "      <td>1.4250</td>\n",
       "      <td>1.1125</td>\n",
       "      <td>0.3500</td>\n",
       "      <td>22.410280</td>\n",
       "      <td>9.525432</td>\n",
       "      <td>5.173784</td>\n",
       "      <td>5.953395</td>\n",
       "    </tr>\n",
       "    <tr>\n",
       "      <th>2</th>\n",
       "      <td>I</td>\n",
       "      <td>0.9875</td>\n",
       "      <td>0.7375</td>\n",
       "      <td>0.2375</td>\n",
       "      <td>7.909510</td>\n",
       "      <td>3.061746</td>\n",
       "      <td>1.516698</td>\n",
       "      <td>2.267960</td>\n",
       "    </tr>\n",
       "    <tr>\n",
       "      <th>3</th>\n",
       "      <td>F</td>\n",
       "      <td>1.5625</td>\n",
       "      <td>1.2250</td>\n",
       "      <td>0.3875</td>\n",
       "      <td>31.184450</td>\n",
       "      <td>14.033003</td>\n",
       "      <td>6.307764</td>\n",
       "      <td>9.355335</td>\n",
       "    </tr>\n",
       "    <tr>\n",
       "      <th>4</th>\n",
       "      <td>I</td>\n",
       "      <td>1.0875</td>\n",
       "      <td>0.8125</td>\n",
       "      <td>0.2625</td>\n",
       "      <td>11.892615</td>\n",
       "      <td>5.499803</td>\n",
       "      <td>2.849125</td>\n",
       "      <td>3.543687</td>\n",
       "    </tr>\n",
       "  </tbody>\n",
       "</table>\n",
       "</div>"
      ],
      "text/plain": [
       "  Sex  Length  Diameter  Height     Weight  Shucked Weight  Viscera Weight  \\\n",
       "0   M  1.7000    1.3625  0.4375  50.391236       20.000572       10.701936   \n",
       "1   M  1.4250    1.1125  0.3500  22.410280        9.525432        5.173784   \n",
       "2   I  0.9875    0.7375  0.2375   7.909510        3.061746        1.516698   \n",
       "3   F  1.5625    1.2250  0.3875  31.184450       14.033003        6.307764   \n",
       "4   I  1.0875    0.8125  0.2625  11.892615        5.499803        2.849125   \n",
       "\n",
       "   Shell Weight  \n",
       "0     13.182517  \n",
       "1      5.953395  \n",
       "2      2.267960  \n",
       "3      9.355335  \n",
       "4      3.543687  "
      ]
     },
     "execution_count": 8,
     "metadata": {},
     "output_type": "execute_result"
    }
   ],
   "source": [
    "X_train.head()"
   ]
  },
  {
   "cell_type": "code",
   "execution_count": 9,
   "metadata": {},
   "outputs": [],
   "source": [
    "with open('/home/kaustubh/mlops_zoomcamp/final_project/project_1/mnt/serve/preprocessor.b','rb') as f:\n",
    "    le = pickle.load(f)"
   ]
  },
  {
   "cell_type": "code",
   "execution_count": 10,
   "metadata": {},
   "outputs": [],
   "source": [
    "X_train['Sex'] = le.transform(X_train['Sex'])"
   ]
  },
  {
   "cell_type": "code",
   "execution_count": 16,
   "metadata": {},
   "outputs": [
    {
     "data": {
      "text/plain": [
       "array([13.20472738,  9.42248625,  6.85774597, ..., 10.29351285,\n",
       "        8.84209433, 11.08322771])"
      ]
     },
     "execution_count": 16,
     "metadata": {},
     "output_type": "execute_result"
    }
   ],
   "source": [
    "model.predict(X_train)"
   ]
  },
  {
   "cell_type": "code",
   "execution_count": 14,
   "metadata": {},
   "outputs": [],
   "source": [
    "def download_artifacts(run_id, artifact_path, dst_path):\n",
    "    \"\"\"\n",
    "    Download the artifact(dict vectorizer) from the model registry\n",
    "    Args:\n",
    "        run_id (str): run_id of the model\n",
    "        artifact_path (str): artifact path in the model registry\n",
    "        dst_path (str): destination path in the local\n",
    "    \"\"\"\n",
    "    mlflow.artifacts.download_artifacts(\n",
    "        run_id=run_id, artifact_path=artifact_path, dst_path=dst_path\n",
    "    )"
   ]
  },
  {
   "cell_type": "code",
   "execution_count": 12,
   "metadata": {},
   "outputs": [],
   "source": [
    "run_id = '48d9511ef73d4aa2b3e9987aebd5f289'"
   ]
  },
  {
   "cell_type": "code",
   "execution_count": 13,
   "metadata": {},
   "outputs": [],
   "source": [
    "artifact_path=\"preprocessor.b\""
   ]
  },
  {
   "cell_type": "code",
   "execution_count": 15,
   "metadata": {},
   "outputs": [
    {
     "name": "stderr",
     "output_type": "stream",
     "text": [
      "Downloading artifacts: 100%|██████████| 1/1 [00:00<00:00, 661.04it/s] \n"
     ]
    }
   ],
   "source": [
    "download_artifacts(\n",
    "                run_id=run_id,\n",
    "                artifact_path=artifact_path,\n",
    "                dst_path=\"/home/kaustubh/mlops_zoomcamp/final_project/project_1/pipeline\"\n",
    "            )\n",
    "\n",
    "preprocessor_path = artifact_path"
   ]
  },
  {
   "cell_type": "code",
   "execution_count": 23,
   "metadata": {},
   "outputs": [],
   "source": [
    "model_name =\"crab-age-predictor\"\n",
    "experiment_name = \"training-pipeline\"\n",
    "mlflow_tracking_uri = \"sqlite:////home/kaustubh/mlops_zoomcamp/final_project/project_1/mlflow.db\""
   ]
  },
  {
   "cell_type": "code",
   "execution_count": 24,
   "metadata": {},
   "outputs": [],
   "source": [
    "def get_prod_run_id(tracking_uri, model_name, stage=\"Production\"):\n",
    "    \"\"\"\n",
    "    get the latest production run_id from model registry\n",
    "    Args:\n",
    "        tracking_uri (str): tracking uri of mlflow server\n",
    "        model_name (str): experiment_name\n",
    "        stage (str, optional): Staging or Production. Defaults to \"Production\".\n",
    "\n",
    "    Returns:\n",
    "        str: run_id of the latest production model\n",
    "    \"\"\"\n",
    "    client = MlflowClient(tracking_uri=tracking_uri)\n",
    "    model_metadata = client.get_latest_versions(name=model_name, stages=[stage])[0]\n",
    "    run_id = model_metadata.run_id\n",
    "\n",
    "    return run_id"
   ]
  },
  {
   "cell_type": "code",
   "execution_count": 25,
   "metadata": {},
   "outputs": [],
   "source": [
    "def get_latest_run_id(mlflow_tracking_uri,model_name):\n",
    "        \"\"\"\n",
    "        Get the run_id of the production model inside the model registry.\n",
    "        Returns:\n",
    "            str: run_id of the latest production model\n",
    "        \"\"\"\n",
    "        run_id = get_prod_run_id(\n",
    "            tracking_uri=mlflow_tracking_uri,\n",
    "            model_name=model_name,\n",
    "        )\n",
    "\n",
    "        return run_id"
   ]
  },
  {
   "cell_type": "code",
   "execution_count": 26,
   "metadata": {},
   "outputs": [
    {
     "name": "stderr",
     "output_type": "stream",
     "text": [
      "/tmp/ipykernel_50446/1539794231.py:13: FutureWarning: ``mlflow.tracking.client.MlflowClient.get_latest_versions`` is deprecated since 2.9.0. Model registry stages will be removed in a future major release. To learn more about the deprecation of model registry stages, see our migration guide here: https://mlflow.org/docs/latest/model-registry.html#migrating-from-stages\n",
      "  model_metadata = client.get_latest_versions(name=model_name, stages=[stage])[0]\n"
     ]
    }
   ],
   "source": [
    "run = get_latest_run_id(mlflow_tracking_uri,model_name)"
   ]
  },
  {
   "cell_type": "code",
   "execution_count": 27,
   "metadata": {},
   "outputs": [
    {
     "name": "stdout",
     "output_type": "stream",
     "text": [
      "332e550aea824c109797dee0b58df543\n"
     ]
    }
   ],
   "source": [
    "print(run)"
   ]
  },
  {
   "cell_type": "code",
   "execution_count": 32,
   "metadata": {},
   "outputs": [],
   "source": [
    "run_id = \"332e550aea824c109797dee0b58df543\""
   ]
  },
  {
   "cell_type": "code",
   "execution_count": 2,
   "metadata": {},
   "outputs": [],
   "source": [
    "tracking_uri=\"sqlite:////home/kaustubh/mlops_zoomcamp/final_project/project_1/mlflow.db\"\n",
    "mlflow.set_tracking_uri(tracking_uri)"
   ]
  },
  {
   "cell_type": "code",
   "execution_count": 3,
   "metadata": {},
   "outputs": [],
   "source": [
    "import mlflow\n",
    "logged_model = 'runs:/332e550aea824c109797dee0b58df543/model'\n",
    "\n",
    "# Load model as a PyFuncModel.\n",
    "loaded_model = mlflow.pyfunc.load_model(logged_model)"
   ]
  },
  {
   "cell_type": "code",
   "execution_count": 4,
   "metadata": {},
   "outputs": [
    {
     "data": {
      "text/plain": [
       "mlflow.pyfunc.loaded_model:\n",
       "  artifact_path: model\n",
       "  flavor: mlflow.sklearn\n",
       "  run_id: 332e550aea824c109797dee0b58df543"
      ]
     },
     "execution_count": 4,
     "metadata": {},
     "output_type": "execute_result"
    }
   ],
   "source": [
    "loaded_model"
   ]
  },
  {
   "cell_type": "code",
   "execution_count": 29,
   "metadata": {},
   "outputs": [],
   "source": [
    "def get_model(run_id):\n",
    "    \"\"\"\n",
    "    load the model from the model registry\n",
    "    Args:\n",
    "        run_id (str): run_id of the model\n",
    "    Returns:\n",
    "        PyFuncModel: loaded model from the model registry\n",
    "    \"\"\"\n",
    "\n",
    "    logged_model = f\"runs:/{run_id}/model\"\n",
    "\n",
    "    load_model = mlflow.pyfunc.load_model(logged_model)\n",
    "\n",
    "    return load_model"
   ]
  },
  {
   "cell_type": "code",
   "execution_count": 30,
   "metadata": {},
   "outputs": [],
   "source": [
    "def load_model(run_id):\n",
    "        \"\"\"\n",
    "        Load the model from the model registry.\n",
    "        Args:\n",
    "            run_id (str): run_id of the model\n",
    "\n",
    "        Returns:\n",
    "            PyFuncModel: loaded model from the model registry\n",
    "        \"\"\"\n",
    "        load_model = get_model(run_id)\n",
    "\n",
    "        return load_model\n"
   ]
  },
  {
   "cell_type": "code",
   "execution_count": 7,
   "metadata": {},
   "outputs": [],
   "source": [
    "import pickle"
   ]
  },
  {
   "cell_type": "code",
   "execution_count": 6,
   "metadata": {},
   "outputs": [],
   "source": [
    "def download_artifacts(run_id, artifact_path, dst_path):\n",
    "    \"\"\"\n",
    "    Download the artifact(dict vectorizer) from the model registry\n",
    "    Args:\n",
    "        run_id (str): run_id of the model\n",
    "        artifact_path (str): artifact path in the model registry\n",
    "        dst_path (str): destination path in the local\n",
    "    \"\"\"\n",
    "    mlflow.artifacts.download_artifacts(\n",
    "        run_id=run_id, artifact_path=artifact_path, dst_path=dst_path\n",
    "    )"
   ]
  },
  {
   "cell_type": "code",
   "execution_count": 12,
   "metadata": {},
   "outputs": [],
   "source": [
    "def load_dv(\n",
    "        run_id, artifact_path=\"preprocessor.b\", is_test_service=False\n",
    "    ):\n",
    "        # pylint: disable=invalid-name\n",
    "        \"\"\"\n",
    "        Download the Preprocessor and load it from the local path.\n",
    "        Args:\n",
    "            run_id (str): run_id of the model\n",
    "            artifact_path (str, optional):  artifact path in the model registry.\n",
    "                                            Defaults to \"artifact/preprocessor.b\".\n",
    "        Returns:\n",
    "            Preprocessor: A Preprocessor\n",
    "        \"\"\"\n",
    "        if not is_test_service:\n",
    "            download_artifacts(\n",
    "                run_id=run_id,\n",
    "                artifact_path=artifact_path,\n",
    "                dst_path=\"/home/kaustubh/mlops_zoomcamp/final_project/project_1/mnt/serve\",\n",
    "            )\n",
    "\n",
    "            preprocessor_path = os.path.join(self.local_serve_folder, artifact_path)\n",
    "        else:\n",
    "            directory = Path(__file__).resolve().parent\n",
    "            preprocessor_path = directory / artifact_path\n",
    "\n",
    "        with open(preprocessor_path, \"rb\") as f_in:\n",
    "            dv = pickle.load(f_in)\n",
    "\n",
    "        return dv"
   ]
  },
  {
   "cell_type": "code",
   "execution_count": 16,
   "metadata": {},
   "outputs": [],
   "source": [
    "import pandas as pd\n",
    "\n",
    "# Your dictionary\n",
    "data = {\n",
    "    'Sex': 'M',\n",
    "    'Length': 1.575,\n",
    "    'Diameter': 1.225,\n",
    "    'Height': 0.375,\n",
    "    'Weight': 31.226974,\n",
    "    'Shucked Weight': 12.303683,\n",
    "    'Viscera Weight': 6.321938,\n",
    "    'Shell Weight': 9.63883\n",
    "}\n",
    "\n",
    "# Convert the dictionary to a pandas DataFrame\n",
    "df = pd.DataFrame([data])\n",
    "\n",
    "# Display the DataFrame\n"
   ]
  },
  {
   "cell_type": "code",
   "execution_count": 18,
   "metadata": {},
   "outputs": [
    {
     "data": {
      "text/plain": [
       "(1, 8)"
      ]
     },
     "execution_count": 18,
     "metadata": {},
     "output_type": "execute_result"
    }
   ],
   "source": []
  },
  {
   "cell_type": "code",
   "execution_count": 13,
   "metadata": {},
   "outputs": [],
   "source": [
    "run_id = \"332e550aea824c109797dee0b58df543\""
   ]
  },
  {
   "cell_type": "code",
   "execution_count": 14,
   "metadata": {},
   "outputs": [
    {
     "name": "stderr",
     "output_type": "stream",
     "text": [
      "Downloading artifacts: 100%|██████████| 1/1 [00:00<00:00, 607.52it/s] \n"
     ]
    },
    {
     "ename": "NameError",
     "evalue": "name 'os' is not defined",
     "output_type": "error",
     "traceback": [
      "\u001b[0;31m---------------------------------------------------------------------------\u001b[0m",
      "\u001b[0;31mNameError\u001b[0m                                 Traceback (most recent call last)",
      "Cell \u001b[0;32mIn[14], line 1\u001b[0m\n\u001b[0;32m----> 1\u001b[0m dv \u001b[38;5;241m=\u001b[39m \u001b[43mload_dv\u001b[49m\u001b[43m(\u001b[49m\u001b[43mrun_id\u001b[49m\u001b[43m)\u001b[49m\n",
      "Cell \u001b[0;32mIn[12], line 21\u001b[0m, in \u001b[0;36mload_dv\u001b[0;34m(run_id, artifact_path, is_test_service)\u001b[0m\n\u001b[1;32m     14\u001b[0m \u001b[38;5;28;01mif\u001b[39;00m \u001b[38;5;129;01mnot\u001b[39;00m is_test_service:\n\u001b[1;32m     15\u001b[0m     download_artifacts(\n\u001b[1;32m     16\u001b[0m         run_id\u001b[38;5;241m=\u001b[39mrun_id,\n\u001b[1;32m     17\u001b[0m         artifact_path\u001b[38;5;241m=\u001b[39martifact_path,\n\u001b[1;32m     18\u001b[0m         dst_path\u001b[38;5;241m=\u001b[39m\u001b[38;5;124m\"\u001b[39m\u001b[38;5;124m/home/kaustubh/mlops_zoomcamp/final_project/project_1/mnt/serve\u001b[39m\u001b[38;5;124m\"\u001b[39m,\n\u001b[1;32m     19\u001b[0m     )\n\u001b[0;32m---> 21\u001b[0m     preprocessor_path \u001b[38;5;241m=\u001b[39m \u001b[43mos\u001b[49m\u001b[38;5;241m.\u001b[39mpath\u001b[38;5;241m.\u001b[39mjoin(\u001b[38;5;28mself\u001b[39m\u001b[38;5;241m.\u001b[39mlocal_serve_folder, artifact_path)\n\u001b[1;32m     22\u001b[0m \u001b[38;5;28;01melse\u001b[39;00m:\n\u001b[1;32m     23\u001b[0m     directory \u001b[38;5;241m=\u001b[39m Path(\u001b[38;5;18m__file__\u001b[39m)\u001b[38;5;241m.\u001b[39mresolve()\u001b[38;5;241m.\u001b[39mparent\n",
      "\u001b[0;31mNameError\u001b[0m: name 'os' is not defined"
     ]
    }
   ],
   "source": [
    "dv = load_dv(run_id)"
   ]
  },
  {
   "cell_type": "code",
   "execution_count": 3,
   "metadata": {},
   "outputs": [
    {
     "data": {
      "text/plain": [
       "[<Experiment: artifact_location='/home/kaustubh/mlops_zoomcamp/final_project/project_1/pipeline/mlruns/1', creation_time=1722399447940, experiment_id='1', last_update_time=1722399447940, lifecycle_stage='active', name='training-pipeline', tags={}>,\n",
       " <Experiment: artifact_location='/home/kaustubh/mlops_zoomcamp/final_project/project_1/mnt/mlruns/artifacts/0', creation_time=1722399437286, experiment_id='0', last_update_time=1722399437286, lifecycle_stage='active', name='Default', tags={}>]"
      ]
     },
     "execution_count": 3,
     "metadata": {},
     "output_type": "execute_result"
    }
   ],
   "source": [
    "client.search_experiments()"
   ]
  },
  {
   "cell_type": "code",
   "execution_count": 19,
   "metadata": {},
   "outputs": [],
   "source": [
    "def get_latest_version_model(model_name=\"car_price_prediction\", stage=\"production\"):\n",
    "    \"\"\"\n",
    "    Get the latest version of the production model in the model registry\n",
    "    Args:\n",
    "        model_name (str, optional): model name used in mlflow.\n",
    "                                    Defaults to \"crag-age-predictor\".\n",
    "        stage (str, optional): stage inside mlflow model registry. Defaults to \"production\".\n",
    "\n",
    "    Returns:\n",
    "        str: the latest version in the mlflow model registry\n",
    "    \"\"\"\n",
    "    latest_version = client.get_latest_versions(name=model_name, stages=[stage])\n",
    "\n",
    "    return latest_version"
   ]
  },
  {
   "cell_type": "code",
   "execution_count": 20,
   "metadata": {},
   "outputs": [
    {
     "name": "stderr",
     "output_type": "stream",
     "text": [
      "/tmp/ipykernel_44946/780048396.py:12: FutureWarning: ``mlflow.tracking.client.MlflowClient.get_latest_versions`` is deprecated since 2.9.0. Model registry stages will be removed in a future major release. To learn more about the deprecation of model registry stages, see our migration guide here: https://mlflow.org/docs/latest/model-registry.html#migrating-from-stages\n",
      "  latest_version = client.get_latest_versions(name=model_name, stages=[stage])\n"
     ]
    }
   ],
   "source": [
    "prod_model = get_latest_version_model()"
   ]
  },
  {
   "cell_type": "code",
   "execution_count": 21,
   "metadata": {},
   "outputs": [
    {
     "data": {
      "text/plain": [
       "[]"
      ]
     },
     "execution_count": 21,
     "metadata": {},
     "output_type": "execute_result"
    }
   ],
   "source": [
    "prod_model"
   ]
  },
  {
   "cell_type": "code",
   "execution_count": 22,
   "metadata": {},
   "outputs": [],
   "source": [
    "register_models = client.search_registered_models()"
   ]
  },
  {
   "cell_type": "code",
   "execution_count": 23,
   "metadata": {},
   "outputs": [
    {
     "data": {
      "text/plain": [
       "[<RegisteredModel: aliases={}, creation_timestamp=1721794459060, description=None, last_updated_timestamp=1721794459084, latest_versions=[<ModelVersion: aliases=[], creation_timestamp=1721794459084, current_stage='None', description=None, last_updated_timestamp=1721794459084, name='car_price_prediction', run_id='120895adb5d24be6b750a32fb133ec4e', run_link=None, source='/home/kaustubh/mlops_zoomcamp/final_project/project_1/pipeline/mlruns/1/120895adb5d24be6b750a32fb133ec4e/artifacts/model', status='READY', status_message=None, tags={}, user_id=None, version=1>], name='car_price_prediction', tags={}>]"
      ]
     },
     "execution_count": 23,
     "metadata": {},
     "output_type": "execute_result"
    }
   ],
   "source": [
    "register_models"
   ]
  },
  {
   "cell_type": "code",
   "execution_count": 5,
   "metadata": {},
   "outputs": [
    {
     "name": "stdout",
     "output_type": "stream",
     "text": [
      "version:2, stage:None\n"
     ]
    },
    {
     "name": "stderr",
     "output_type": "stream",
     "text": [
      "/tmp/ipykernel_2346/2138633533.py:3: FutureWarning: ``mlflow.tracking.client.MlflowClient.get_latest_versions`` is deprecated since 2.9.0. Model registry stages will be removed in a future major release. To learn more about the deprecation of model registry stages, see our migration guide here: https://mlflow.org/docs/latest/model-registry.html#migrating-from-stages\n",
      "  lastest_versions=client.get_latest_versions(name=model_name)\n"
     ]
    }
   ],
   "source": [
    "model_name=\"crab-age-predictor\"\n",
    "\n",
    "lastest_versions=client.get_latest_versions(name=model_name)\n",
    "\n",
    "for version in lastest_versions:\n",
    "    print(f\"version:{version.version}, stage:{version.current_stage}\")"
   ]
  },
  {
   "cell_type": "code",
   "execution_count": 19,
   "metadata": {},
   "outputs": [
    {
     "name": "stderr",
     "output_type": "stream",
     "text": [
      "/tmp/ipykernel_2346/3170559706.py:1: FutureWarning: ``mlflow.tracking.client.MlflowClient.transition_model_version_stage`` is deprecated since 2.9.0. Model registry stages will be removed in a future major release. To learn more about the deprecation of model registry stages, see our migration guide here: https://mlflow.org/docs/latest/model-registry.html#migrating-from-stages\n",
      "  client.transition_model_version_stage(\n"
     ]
    },
    {
     "data": {
      "text/plain": [
       "<ModelVersion: aliases=[], creation_timestamp=1722403623607, current_stage='Production', description=None, last_updated_timestamp=1722407361728, name='crab-age-predictor', run_id='a19a76855a0c438cad62e61ad79028f1', run_link=None, source='/home/kaustubh/mlops_zoomcamp/final_project/project_1/pipeline/mlruns/1/a19a76855a0c438cad62e61ad79028f1/artifacts/model', status='READY', status_message=None, tags={}, user_id=None, version=2>"
      ]
     },
     "execution_count": 19,
     "metadata": {},
     "output_type": "execute_result"
    }
   ],
   "source": [
    "client.transition_model_version_stage(\n",
    "        name=model_name,\n",
    "        version=2,\n",
    "        stage=\"Production\",\n",
    "        archive_existing_versions=True,\n",
    "    )"
   ]
  },
  {
   "cell_type": "code",
   "execution_count": 1,
   "metadata": {},
   "outputs": [
    {
     "data": {
      "text/plain": [
       "'/home/kaustubh'"
      ]
     },
     "execution_count": 1,
     "metadata": {},
     "output_type": "execute_result"
    }
   ],
   "source": [
    "import os\n",
    "os.environ.get(\"HOME\")"
   ]
  },
  {
   "cell_type": "code",
   "execution_count": 3,
   "metadata": {},
   "outputs": [
    {
     "name": "stdout",
     "output_type": "stream",
     "text": [
      "[{'Sex': 'M', 'Length': 1.575, 'Diameter': 1.225, 'Height': 0.375, 'Weight': 31.226974, 'Shucked Weight': 12.303683, 'Viscera Weight': 6.321938, 'Shell Weight': 9.63883}, {'Sex': 'I', 'Length': 1.2375, 'Diameter': 1.0, 'Height': 0.375, 'Weight': 21.885814, 'Shucked Weight': 7.654365, 'Viscera Weight': 3.798833, 'Shell Weight': 7.654365}, {'Sex': 'F', 'Length': 1.45, 'Diameter': 1.1625, 'Height': 0.4125, 'Weight': 28.250277, 'Shucked Weight': 11.127179, 'Viscera Weight': 7.016501, 'Shell Weight': 7.257472}]\n"
     ]
    }
   ],
   "source": [
    "import json\n",
    "with open(\"../data/raw/sample_data.json\", \"r\", encoding=\"utf-8\") as f_in:\n",
    "        payloads = json.load(f_in)\n",
    "\n",
    "for payload in payloads:\n",
    "        print(payload)\n",
    "print(payloads)"
   ]
  },
  {
   "cell_type": "code",
   "execution_count": 5,
   "metadata": {},
   "outputs": [],
   "source": [
    "from mlflow.entities import ViewType\n",
    "\n",
    "runs = client.search_runs(\n",
    "    experiment_ids='1',\n",
    "    filter_string=\"metrics.rmse < 6.5\",\n",
    "    run_view_type=ViewType.ACTIVE_ONLY,\n",
    "    max_results=20,\n",
    "    order_by=[\"metrics.rmse ASC\"] \n",
    ")"
   ]
  },
  {
   "cell_type": "code",
   "execution_count": 6,
   "metadata": {},
   "outputs": [
    {
     "name": "stdout",
     "output_type": "stream",
     "text": [
      "run-id : 3c70caddcbb6457e88b7447e04fbbb1c, rmse : {'training_mean_squared_error': 2.4953468130878234, 'training_mean_absolute_error': 1.1053483682311869, 'training_r2_score': 0.7599283742668574, 'training_root_mean_squared_error': 1.5796666778430897, 'training_score': 0.7599283742668574, 'rmse': 1.9686371712050197}\n",
      "\n",
      "run-id : be8c8de37a4c4833bd24be24e2670f62, rmse : {'training_mean_squared_error': 2.4953468130878234, 'training_mean_absolute_error': 1.1053483682311867, 'training_r2_score': 0.7599283742668574, 'training_root_mean_squared_error': 1.5796666778430897, 'training_score': 0.7599283742668574, 'rmse': 1.9686371712050197}\n",
      "\n",
      "run-id : 4d2c2a72103c48a5a64fa6dcd2c9115c, rmse : {'training_mean_squared_error': 1.8218383920209247, 'training_mean_absolute_error': 0.9251408184020271, 'training_r2_score': 0.8247250833825781, 'training_root_mean_squared_error': 1.3497549377649725, 'training_score': 0.8247250833825781, 'rmse': 1.9871548286340732}\n",
      "\n",
      "run-id : 9d3e2edb34e2477db484947712310383, rmse : {'training_mean_squared_error': 1.8218383920209247, 'training_mean_absolute_error': 0.9251408184020271, 'training_r2_score': 0.8247250833825781, 'training_root_mean_squared_error': 1.3497549377649725, 'training_score': 0.8247250833825781, 'rmse': 1.9871548286340732}\n",
      "\n",
      "run-id : f743dd92bda3439ba54e7910da756f12, rmse : {'training_mean_squared_error': 4.3751183065200525, 'training_mean_absolute_error': 1.4575330780963753, 'training_r2_score': 0.5790798460910629, 'training_root_mean_squared_error': 2.091678346811491, 'training_score': 0.5790798460910629, 'rmse': 2.094383849939075}\n",
      "\n",
      "run-id : e79f0a042f984e6a9ed91b1f685b4d99, rmse : {'training_mean_squared_error': 4.3751183065200525, 'training_mean_absolute_error': 1.4575330780963753, 'training_r2_score': 0.5790798460910629, 'training_root_mean_squared_error': 2.091678346811491, 'training_score': 0.5790798460910629, 'rmse': 2.0943838499390752}\n",
      "\n",
      "run-id : af259d845ec34532a5f9b20d99b0bb9a, rmse : {'training_mean_squared_error': 4.705383158070718, 'training_mean_absolute_error': 1.5209821186199202, 'training_r2_score': 0.5473058179606121, 'training_root_mean_squared_error': 2.1691895164025476, 'training_score': 0.5473058179606121, 'rmse': 2.1628432318151782}\n",
      "\n",
      "run-id : 0bce4984a82f4992a82aebebe0a64c4e, rmse : {'training_mean_squared_error': 4.705383158070718, 'training_mean_absolute_error': 1.52098211861992, 'training_r2_score': 0.5473058179606121, 'training_root_mean_squared_error': 2.1691895164025476, 'training_score': 0.5473058179606122, 'rmse': 2.1628432318151782}\n",
      "\n"
     ]
    }
   ],
   "source": [
    "for run in runs:\n",
    "    \n",
    "    \n",
    "    print(f\"run-id : {run.info.run_id}, rmse : {run.data.metrics}\" , end=\"\\n\\n\")"
   ]
  },
  {
   "cell_type": "code",
   "execution_count": 7,
   "metadata": {},
   "outputs": [
    {
     "name": "stdout",
     "output_type": "stream",
     "text": [
      "run-id : 3c70caddcbb6457e88b7447e04fbbb1c, rmse : {'bootstrap': 'True', 'ccp_alpha': '0.0', 'criterion': 'squared_error', 'max_depth': '15', 'max_features': '1.0', 'max_leaf_nodes': 'None', 'max_samples': 'None', 'min_impurity_decrease': '0.0', 'min_samples_leaf': '4', 'min_samples_split': '2', 'min_weight_fraction_leaf': '0.0', 'monotonic_cst': 'None', 'n_estimators': '34', 'n_jobs': '-1', 'oob_score': 'False', 'random_state': '42', 'verbose': '0', 'warm_start': 'False'}\n",
      "\n",
      "run-id : be8c8de37a4c4833bd24be24e2670f62, rmse : {'bootstrap': 'True', 'ccp_alpha': '0.0', 'criterion': 'squared_error', 'max_depth': '15', 'max_features': '1.0', 'max_leaf_nodes': 'None', 'max_samples': 'None', 'min_impurity_decrease': '0.0', 'min_samples_leaf': '4', 'min_samples_split': '2', 'min_weight_fraction_leaf': '0.0', 'monotonic_cst': 'None', 'n_estimators': '34', 'n_jobs': '-1', 'oob_score': 'False', 'random_state': '42', 'verbose': '0', 'warm_start': 'False'}\n",
      "\n",
      "run-id : 4d2c2a72103c48a5a64fa6dcd2c9115c, rmse : {'bootstrap': 'True', 'ccp_alpha': '0.0', 'criterion': 'squared_error', 'max_depth': '20', 'max_features': '1.0', 'max_leaf_nodes': 'None', 'max_samples': 'None', 'min_impurity_decrease': '0.0', 'min_samples_leaf': '3', 'min_samples_split': '8', 'min_weight_fraction_leaf': '0.0', 'monotonic_cst': 'None', 'n_estimators': '25', 'n_jobs': '-1', 'oob_score': 'False', 'random_state': '42', 'verbose': '0', 'warm_start': 'False'}\n",
      "\n",
      "run-id : 9d3e2edb34e2477db484947712310383, rmse : {'bootstrap': 'True', 'ccp_alpha': '0.0', 'criterion': 'squared_error', 'max_depth': '20', 'max_features': '1.0', 'max_leaf_nodes': 'None', 'max_samples': 'None', 'min_impurity_decrease': '0.0', 'min_samples_leaf': '3', 'min_samples_split': '8', 'min_weight_fraction_leaf': '0.0', 'monotonic_cst': 'None', 'n_estimators': '25', 'n_jobs': '-1', 'oob_score': 'False', 'random_state': '42', 'verbose': '0', 'warm_start': 'False'}\n",
      "\n",
      "run-id : f743dd92bda3439ba54e7910da756f12, rmse : {'bootstrap': 'True', 'ccp_alpha': '0.0', 'criterion': 'squared_error', 'max_depth': '5', 'max_features': '1.0', 'max_leaf_nodes': 'None', 'max_samples': 'None', 'min_impurity_decrease': '0.0', 'min_samples_leaf': '1', 'min_samples_split': '3', 'min_weight_fraction_leaf': '0.0', 'monotonic_cst': 'None', 'n_estimators': '44', 'n_jobs': '-1', 'oob_score': 'False', 'random_state': '42', 'verbose': '0', 'warm_start': 'False'}\n",
      "\n",
      "run-id : e79f0a042f984e6a9ed91b1f685b4d99, rmse : {'bootstrap': 'True', 'ccp_alpha': '0.0', 'criterion': 'squared_error', 'max_depth': '5', 'max_features': '1.0', 'max_leaf_nodes': 'None', 'max_samples': 'None', 'min_impurity_decrease': '0.0', 'min_samples_leaf': '1', 'min_samples_split': '3', 'min_weight_fraction_leaf': '0.0', 'monotonic_cst': 'None', 'n_estimators': '44', 'n_jobs': '-1', 'oob_score': 'False', 'random_state': '42', 'verbose': '0', 'warm_start': 'False'}\n",
      "\n",
      "run-id : af259d845ec34532a5f9b20d99b0bb9a, rmse : {'bootstrap': 'True', 'ccp_alpha': '0.0', 'criterion': 'squared_error', 'max_depth': '4', 'max_features': '1.0', 'max_leaf_nodes': 'None', 'max_samples': 'None', 'min_impurity_decrease': '0.0', 'min_samples_leaf': '4', 'min_samples_split': '2', 'min_weight_fraction_leaf': '0.0', 'monotonic_cst': 'None', 'n_estimators': '16', 'n_jobs': '-1', 'oob_score': 'False', 'random_state': '42', 'verbose': '0', 'warm_start': 'False'}\n",
      "\n",
      "run-id : 0bce4984a82f4992a82aebebe0a64c4e, rmse : {'bootstrap': 'True', 'ccp_alpha': '0.0', 'criterion': 'squared_error', 'max_depth': '4', 'max_features': '1.0', 'max_leaf_nodes': 'None', 'max_samples': 'None', 'min_impurity_decrease': '0.0', 'min_samples_leaf': '4', 'min_samples_split': '2', 'min_weight_fraction_leaf': '0.0', 'monotonic_cst': 'None', 'n_estimators': '16', 'n_jobs': '-1', 'oob_score': 'False', 'random_state': '42', 'verbose': '0', 'warm_start': 'False'}\n",
      "\n"
     ]
    }
   ],
   "source": [
    "for run in runs:\n",
    "    \n",
    "    \n",
    "    print(f\"run-id : {run.info.run_id}, rmse : {run.data.params}\" , end=\"\\n\\n\")"
   ]
  },
  {
   "cell_type": "code",
   "execution_count": 8,
   "metadata": {},
   "outputs": [],
   "source": [
    "params = run.data.params"
   ]
  },
  {
   "cell_type": "code",
   "execution_count": 9,
   "metadata": {},
   "outputs": [
    {
     "data": {
      "text/plain": [
       "{'bootstrap': 'True',\n",
       " 'ccp_alpha': '0.0',\n",
       " 'criterion': 'squared_error',\n",
       " 'max_depth': '4',\n",
       " 'max_features': '1.0',\n",
       " 'max_leaf_nodes': 'None',\n",
       " 'max_samples': 'None',\n",
       " 'min_impurity_decrease': '0.0',\n",
       " 'min_samples_leaf': '4',\n",
       " 'min_samples_split': '2',\n",
       " 'min_weight_fraction_leaf': '0.0',\n",
       " 'monotonic_cst': 'None',\n",
       " 'n_estimators': '16',\n",
       " 'n_jobs': '-1',\n",
       " 'oob_score': 'False',\n",
       " 'random_state': '42',\n",
       " 'verbose': '0',\n",
       " 'warm_start': 'False'}"
      ]
     },
     "execution_count": 9,
     "metadata": {},
     "output_type": "execute_result"
    }
   ],
   "source": [
    "params"
   ]
  },
  {
   "cell_type": "code",
   "execution_count": 10,
   "metadata": {},
   "outputs": [],
   "source": [
    "RF_PARAMS = ['max_depth', 'n_estimators', 'min_samples_split', 'min_samples_leaf', 'random_state']"
   ]
  },
  {
   "cell_type": "code",
   "execution_count": 11,
   "metadata": {},
   "outputs": [],
   "source": [
    "for param in RF_PARAMS:\n",
    "            params[param] = int(params[param])\n",
    "            "
   ]
  },
  {
   "cell_type": "code",
   "execution_count": 12,
   "metadata": {},
   "outputs": [
    {
     "data": {
      "text/plain": [
       "{'bootstrap': 'True',\n",
       " 'ccp_alpha': '0.0',\n",
       " 'criterion': 'squared_error',\n",
       " 'max_depth': 4,\n",
       " 'max_features': '1.0',\n",
       " 'max_leaf_nodes': 'None',\n",
       " 'max_samples': 'None',\n",
       " 'min_impurity_decrease': '0.0',\n",
       " 'min_samples_leaf': 4,\n",
       " 'min_samples_split': 2,\n",
       " 'min_weight_fraction_leaf': '0.0',\n",
       " 'monotonic_cst': 'None',\n",
       " 'n_estimators': 16,\n",
       " 'n_jobs': '-1',\n",
       " 'oob_score': 'False',\n",
       " 'random_state': 42,\n",
       " 'verbose': '0',\n",
       " 'warm_start': 'False'}"
      ]
     },
     "execution_count": 12,
     "metadata": {},
     "output_type": "execute_result"
    }
   ],
   "source": [
    "params"
   ]
  },
  {
   "cell_type": "code",
   "execution_count": 16,
   "metadata": {},
   "outputs": [
    {
     "name": "stdout",
     "output_type": "stream",
     "text": [
      "{'max_depth': 4, 'n_estimators': 16, 'min_samples_split': 2, 'min_samples_leaf': 4, 'random_state': 42}\n"
     ]
    }
   ],
   "source": [
    "RF_PARAMS = ['max_depth', 'n_estimators', 'min_samples_split', 'min_samples_leaf', 'random_state']\n",
    "\n",
    "# Convert specified parameters to int\n",
    "for param in RF_PARAMS:\n",
    "    params[param] = int(params[param])\n",
    "\n",
    "# Print only the specified parameters\n",
    "filtered_params = {param: params[param] for param in RF_PARAMS}\n",
    "print(filtered_params)\n"
   ]
  },
  {
   "cell_type": "code",
   "execution_count": 6,
   "metadata": {},
   "outputs": [],
   "source": [
    "experiment_name = \"training-pipeline\""
   ]
  },
  {
   "cell_type": "code",
   "execution_count": 7,
   "metadata": {},
   "outputs": [],
   "source": [
    "experiment = client.get_experiment_by_name(experiment_name)\n",
    "best_model_meta_data = client.search_runs(\n",
    "        experiment_ids=experiment.experiment_id,\n",
    "        run_view_type=ViewType.ACTIVE_ONLY,\n",
    "        order_by=[\"metrics.rmse ASC\"],\n",
    "        max_results=1,\n",
    "    )[0]"
   ]
  },
  {
   "cell_type": "code",
   "execution_count": 8,
   "metadata": {},
   "outputs": [
    {
     "data": {
      "text/plain": [
       "<Run: data=<RunData: metrics={'rmse': 1.9593159814429755}, params={'max_depth': '13',\n",
       " 'min_samples_leaf': '4',\n",
       " 'min_samples_split': '7',\n",
       " 'n_estimators': '43',\n",
       " 'random_state': '42'}, tags={'developer': 'kaustubh',\n",
       " 'mlflow.runName': 'salty-zebra-692',\n",
       " 'mlflow.source.git.commit': 'f909de3afdc3eacf8a5fdcb54b694b44ae15f236',\n",
       " 'mlflow.source.name': 'training_pipeline.py',\n",
       " 'mlflow.source.type': 'LOCAL',\n",
       " 'mlflow.user': 'kaustubh',\n",
       " 'model': 'RF'}>, info=<RunInfo: artifact_uri='/home/kaustubh/mlops_zoomcamp/final_project/project_1/pipeline/mlruns/1/15d487ad370c4e11bb81beef731b7e88/artifacts', end_time=1721739517249, experiment_id='1', lifecycle_stage='active', run_id='15d487ad370c4e11bb81beef731b7e88', run_name='salty-zebra-692', run_uuid='15d487ad370c4e11bb81beef731b7e88', start_time=1721739500832, status='FINISHED', user_id='kaustubh'>, inputs=<RunInputs: dataset_inputs=[]>>"
      ]
     },
     "execution_count": 8,
     "metadata": {},
     "output_type": "execute_result"
    }
   ],
   "source": [
    "best_model_meta_data"
   ]
  },
  {
   "cell_type": "code",
   "execution_count": 7,
   "metadata": {},
   "outputs": [],
   "source": [
    "register_models = client.search_registered_models()"
   ]
  },
  {
   "cell_type": "code",
   "execution_count": 8,
   "metadata": {},
   "outputs": [
    {
     "data": {
      "text/plain": [
       "[<RegisteredModel: aliases={}, creation_timestamp=1722399539416, description=None, last_updated_timestamp=1722403814274, latest_versions=[<ModelVersion: aliases=[], creation_timestamp=1722399539447, current_stage='Production', description=None, last_updated_timestamp=1722403814274, name='crab-age-predictor', run_id='aaf530d600bd428488dbd5f593d1f23f', run_link=None, source='/home/kaustubh/mlops_zoomcamp/final_project/project_1/pipeline/mlruns/1/aaf530d600bd428488dbd5f593d1f23f/artifacts/model', status='READY', status_message=None, tags={}, user_id=None, version=1>,\n",
       "  <ModelVersion: aliases=[], creation_timestamp=1722403623607, current_stage='None', description=None, last_updated_timestamp=1722403623607, name='crab-age-predictor', run_id='a19a76855a0c438cad62e61ad79028f1', run_link=None, source='/home/kaustubh/mlops_zoomcamp/final_project/project_1/pipeline/mlruns/1/a19a76855a0c438cad62e61ad79028f1/artifacts/model', status='READY', status_message=None, tags={}, user_id=None, version=2>], name='crab-age-predictor', tags={}>]"
      ]
     },
     "execution_count": 8,
     "metadata": {},
     "output_type": "execute_result"
    }
   ],
   "source": [
    "register_models"
   ]
  },
  {
   "cell_type": "code",
   "execution_count": 18,
   "metadata": {},
   "outputs": [
    {
     "name": "stdout",
     "output_type": "stream",
     "text": [
      "Model Name: 1\n"
     ]
    }
   ],
   "source": [
    "for model in register_models:\n",
    "    print(f\"Model Name: {model.latest_versions[0].version}\")\n",
    "    # for version in model.latest_versions:\n",
    "\n",
    "    #     print(f\"    Version: {version.version}, Stage: {version.current_stage}, Status: {version.status}\")\n"
   ]
  },
  {
   "cell_type": "code",
   "execution_count": 11,
   "metadata": {},
   "outputs": [],
   "source": [
    "def get_latest_version_model(model_name=\"crab-age-predictor\", stage=\"production\"):\n",
    "    \"\"\"\n",
    "    Get the latest version of the production model in the model registry\n",
    "    Args:\n",
    "        model_name (str, optional): model name used in mlflow.\n",
    "                                    Defaults to \"crag-age-predictor\".\n",
    "        stage (str, optional): stage inside mlflow model registry. Defaults to \"production\".\n",
    "\n",
    "    Returns:\n",
    "        str: the latest version in the mlflow model registry\n",
    "    \"\"\"\n",
    "    latest_version = client.get_latest_versions(name=model_name, stages=[stage])\n",
    "\n",
    "    return latest_version"
   ]
  },
  {
   "cell_type": "code",
   "execution_count": 12,
   "metadata": {},
   "outputs": [
    {
     "name": "stderr",
     "output_type": "stream",
     "text": [
      "/tmp/ipykernel_187211/152756981.py:12: FutureWarning: ``mlflow.tracking.client.MlflowClient.get_latest_versions`` is deprecated since 2.9.0. Model registry stages will be removed in a future major release. To learn more about the deprecation of model registry stages, see our migration guide here: https://mlflow.org/docs/latest/model-registry.html#migrating-from-stages\n",
      "  latest_version = client.get_latest_versions(name=model_name, stages=[stage])\n"
     ]
    }
   ],
   "source": [
    "prod_model = get_latest_version_model()"
   ]
  },
  {
   "cell_type": "code",
   "execution_count": 13,
   "metadata": {},
   "outputs": [],
   "source": [
    "def compare_models(prod_model, best_model_meta_data):\n",
    "    \"\"\"\n",
    "    Comparison between the latest production model and the best model\n",
    "    from the running experiment\n",
    "\n",
    "    Returns:\n",
    "        bool: A boolean value to register the best model or not\n",
    "    \"\"\"\n",
    "    prod_model_run_id = prod_model[0].run_id\n",
    "    prod_model_metrics_data = client.get_metric_history(\n",
    "        prod_model_run_id, key=\"rmse\"\n",
    "    )\n",
    "    prod_model_metrics = prod_model_metrics_data[0].value\n",
    "\n",
    "    best_model_metrics = best_model_meta_data.data.metrics[\"rmse\"]\n",
    "\n",
    "    # True if current best model metrics is better than production metrics\n",
    "    is_register = best_model_metrics > prod_model_metrics\n",
    "\n",
    "    return is_register"
   ]
  },
  {
   "cell_type": "code",
   "execution_count": 14,
   "metadata": {},
   "outputs": [],
   "source": [
    "def register_best_model(model_meta_data, model_name=\"crab-age-predictor\"):\n",
    "    \"\"\"\n",
    "    Register the best model from the training trials in the model registry\n",
    "    Args:\n",
    "        model_meta_data (): metadata about best model in the model registry\n",
    "        model_name (str, optional): model name used in mlflow.\n",
    "                                    Defaults to \"crag-age-predictor\".\n",
    "\n",
    "    Returns:\n",
    "        metadata about registered model\n",
    "    \"\"\"\n",
    "    best_model_id = model_meta_data.info.run_id\n",
    "    best_model_uri = f\"runs:/{best_model_id}/model\"\n",
    "\n",
    "    reg_model_meta_data = mlflow.register_model(\n",
    "        model_uri=best_model_uri, name=model_name\n",
    "    )\n",
    "\n",
    "    return reg_model_meta_data"
   ]
  },
  {
   "cell_type": "code",
   "execution_count": 15,
   "metadata": {},
   "outputs": [],
   "source": [
    "def transition_model_stage(\n",
    "    reg_model_meta_data, model_name=\"crag-age-predictor\", stage=\"production\"\n",
    "):\n",
    "    \"\"\"\n",
    "    Transitioned the best model from the training trials to the production stage\n",
    "    Args:\n",
    "        reg_model_meta_data (): metadata about registered model\n",
    "        model_name (str, optional): model name used in mlflow.\n",
    "                                    Defaults to \"crag-age-predictor\".\n",
    "        stage (str, optional): stage inside mlflow model registry. Defaults to \"production\".\n",
    "    \"\"\"\n",
    "    client.transition_model_version_stage(\n",
    "        name=model_name,\n",
    "        version=reg_model_meta_data.version,\n",
    "        stage=stage,\n",
    "        archive_existing_versions=True,\n",
    "    )\n",
    "\n",
    "    date = datetime.today().date()\n",
    "    client.update_model_version(\n",
    "        name=model_name,\n",
    "        version=reg_model_meta_data.version,\n",
    "        description=f\"The model version {reg_model_meta_data.version} \"\n",
    "        f\"was transition to {stage} on {date}\",\n",
    "    )"
   ]
  },
  {
   "cell_type": "code",
   "execution_count": 17,
   "metadata": {},
   "outputs": [],
   "source": [
    "def search_best_model(experiment_name):\n",
    "    \"\"\"\n",
    "    Search the best model from all the trials in the experiment and its metadata\n",
    "\n",
    "    Args:\n",
    "        experiement_name (str): An experiment name used in the mlflow\n",
    "\n",
    "    Returns:\n",
    "        model_meta_data : metadata about best model in the model registry\n",
    "    \"\"\"\n",
    "    experiment = client.get_experiment_by_name(experiment_name)\n",
    "    best_model_meta_data = client.search_runs(\n",
    "        experiment_ids=experiment.experiment_id,\n",
    "        run_view_type=ViewType.ACTIVE_ONLY,\n",
    "        order_by=[\"metrics.rmse ASC\"],\n",
    "        max_results=1,\n",
    "    )[0]\n",
    "    return best_model_meta_data"
   ]
  },
  {
   "cell_type": "code",
   "execution_count": 18,
   "metadata": {},
   "outputs": [],
   "source": [
    "best_model_meta_data = search_best_model(experiment_name)\n",
    "\n",
    "register_models = client.search_registered_models()\n",
    "# if len(register_models) == 0:\n",
    "#         is_register = True\n",
    "# else:\n",
    "#         prod_model = get_latest_version_model()\n",
    "#         is_register = compare_models(\n",
    "#             prod_model=prod_model, best_model_meta_data=best_model_meta_data\n",
    "#         )\n",
    "\n",
    "# if is_register:\n",
    "#         # logger.info(\"Registering the best model\")\n",
    "#         reg_model_meta_data = register_best_model(model_meta_data=best_model_meta_data)\n",
    "\n",
    "#         # logger.info(\"Transition the best model to the production stage\")\n",
    "#         transition_model_stage(reg_model_meta_data)\n"
   ]
  },
  {
   "cell_type": "code",
   "execution_count": 23,
   "metadata": {},
   "outputs": [
    {
     "name": "stderr",
     "output_type": "stream",
     "text": [
      "Successfully registered model 'crab-age-predictor'.\n"
     ]
    },
    {
     "ename": "MlflowException",
     "evalue": "Run '15d487ad370c4e11bb81beef731b7e88' not found",
     "output_type": "error",
     "traceback": [
      "\u001b[0;31m---------------------------------------------------------------------------\u001b[0m",
      "\u001b[0;31mMlflowException\u001b[0m                           Traceback (most recent call last)",
      "Cell \u001b[0;32mIn[23], line 1\u001b[0m\n\u001b[0;32m----> 1\u001b[0m reg_model_meta_data \u001b[38;5;241m=\u001b[39m \u001b[43mregister_best_model\u001b[49m\u001b[43m(\u001b[49m\u001b[43mmodel_meta_data\u001b[49m\u001b[38;5;241;43m=\u001b[39;49m\u001b[43mbest_model_meta_data\u001b[49m\u001b[43m)\u001b[49m\n",
      "Cell \u001b[0;32mIn[14], line 15\u001b[0m, in \u001b[0;36mregister_best_model\u001b[0;34m(model_meta_data, model_name)\u001b[0m\n\u001b[1;32m     12\u001b[0m best_model_id \u001b[38;5;241m=\u001b[39m model_meta_data\u001b[38;5;241m.\u001b[39minfo\u001b[38;5;241m.\u001b[39mrun_id\n\u001b[1;32m     13\u001b[0m best_model_uri \u001b[38;5;241m=\u001b[39m \u001b[38;5;124mf\u001b[39m\u001b[38;5;124m\"\u001b[39m\u001b[38;5;124mruns:/\u001b[39m\u001b[38;5;132;01m{\u001b[39;00mbest_model_id\u001b[38;5;132;01m}\u001b[39;00m\u001b[38;5;124m/model\u001b[39m\u001b[38;5;124m\"\u001b[39m\n\u001b[0;32m---> 15\u001b[0m reg_model_meta_data \u001b[38;5;241m=\u001b[39m \u001b[43mmlflow\u001b[49m\u001b[38;5;241;43m.\u001b[39;49m\u001b[43mregister_model\u001b[49m\u001b[43m(\u001b[49m\n\u001b[1;32m     16\u001b[0m \u001b[43m    \u001b[49m\u001b[43mmodel_uri\u001b[49m\u001b[38;5;241;43m=\u001b[39;49m\u001b[43mbest_model_uri\u001b[49m\u001b[43m,\u001b[49m\u001b[43m \u001b[49m\u001b[43mname\u001b[49m\u001b[38;5;241;43m=\u001b[39;49m\u001b[43mmodel_name\u001b[49m\n\u001b[1;32m     17\u001b[0m \u001b[43m\u001b[49m\u001b[43m)\u001b[49m\n\u001b[1;32m     19\u001b[0m \u001b[38;5;28;01mreturn\u001b[39;00m reg_model_meta_data\n",
      "File \u001b[0;32m~/.local/share/virtualenvs/project_1-4NMMvVlY/lib/python3.12/site-packages/mlflow/tracking/_model_registry/fluent.py:77\u001b[0m, in \u001b[0;36mregister_model\u001b[0;34m(model_uri, name, await_registration_for, tags)\u001b[0m\n\u001b[1;32m     17\u001b[0m \u001b[38;5;28;01mdef\u001b[39;00m \u001b[38;5;21mregister_model\u001b[39m(\n\u001b[1;32m     18\u001b[0m     model_uri,\n\u001b[1;32m     19\u001b[0m     name,\n\u001b[0;32m   (...)\u001b[0m\n\u001b[1;32m     22\u001b[0m     tags: Optional[Dict[\u001b[38;5;28mstr\u001b[39m, Any]] \u001b[38;5;241m=\u001b[39m \u001b[38;5;28;01mNone\u001b[39;00m,\n\u001b[1;32m     23\u001b[0m ) \u001b[38;5;241m-\u001b[39m\u001b[38;5;241m>\u001b[39m ModelVersion:\n\u001b[1;32m     24\u001b[0m \u001b[38;5;250m    \u001b[39m\u001b[38;5;124;03m\"\"\"Create a new model version in model registry for the model files specified by ``model_uri``.\u001b[39;00m\n\u001b[1;32m     25\u001b[0m \n\u001b[1;32m     26\u001b[0m \u001b[38;5;124;03m    Note that this method assumes the model registry backend URI is the same as that of the\u001b[39;00m\n\u001b[0;32m   (...)\u001b[0m\n\u001b[1;32m     75\u001b[0m \u001b[38;5;124;03m        Version: 1\u001b[39;00m\n\u001b[1;32m     76\u001b[0m \u001b[38;5;124;03m    \"\"\"\u001b[39;00m\n\u001b[0;32m---> 77\u001b[0m     \u001b[38;5;28;01mreturn\u001b[39;00m \u001b[43m_register_model\u001b[49m\u001b[43m(\u001b[49m\n\u001b[1;32m     78\u001b[0m \u001b[43m        \u001b[49m\u001b[43mmodel_uri\u001b[49m\u001b[38;5;241;43m=\u001b[39;49m\u001b[43mmodel_uri\u001b[49m\u001b[43m,\u001b[49m\u001b[43m \u001b[49m\u001b[43mname\u001b[49m\u001b[38;5;241;43m=\u001b[39;49m\u001b[43mname\u001b[49m\u001b[43m,\u001b[49m\u001b[43m \u001b[49m\u001b[43mawait_registration_for\u001b[49m\u001b[38;5;241;43m=\u001b[39;49m\u001b[43mawait_registration_for\u001b[49m\u001b[43m,\u001b[49m\u001b[43m \u001b[49m\u001b[43mtags\u001b[49m\u001b[38;5;241;43m=\u001b[39;49m\u001b[43mtags\u001b[49m\n\u001b[1;32m     79\u001b[0m \u001b[43m    \u001b[49m\u001b[43m)\u001b[49m\n",
      "File \u001b[0;32m~/.local/share/virtualenvs/project_1-4NMMvVlY/lib/python3.12/site-packages/mlflow/tracking/_model_registry/fluent.py:109\u001b[0m, in \u001b[0;36m_register_model\u001b[0;34m(model_uri, name, await_registration_for, tags, local_model_path)\u001b[0m\n\u001b[1;32m    107\u001b[0m source \u001b[38;5;241m=\u001b[39m model_uri\n\u001b[1;32m    108\u001b[0m \u001b[38;5;28;01mif\u001b[39;00m RunsArtifactRepository\u001b[38;5;241m.\u001b[39mis_runs_uri(model_uri):\n\u001b[0;32m--> 109\u001b[0m     source \u001b[38;5;241m=\u001b[39m \u001b[43mRunsArtifactRepository\u001b[49m\u001b[38;5;241;43m.\u001b[39;49m\u001b[43mget_underlying_uri\u001b[49m\u001b[43m(\u001b[49m\u001b[43mmodel_uri\u001b[49m\u001b[43m)\u001b[49m\n\u001b[1;32m    110\u001b[0m     (run_id, _) \u001b[38;5;241m=\u001b[39m RunsArtifactRepository\u001b[38;5;241m.\u001b[39mparse_runs_uri(model_uri)\n\u001b[1;32m    112\u001b[0m create_version_response \u001b[38;5;241m=\u001b[39m client\u001b[38;5;241m.\u001b[39m_create_model_version(\n\u001b[1;32m    113\u001b[0m     name\u001b[38;5;241m=\u001b[39mname,\n\u001b[1;32m    114\u001b[0m     source\u001b[38;5;241m=\u001b[39msource,\n\u001b[0;32m   (...)\u001b[0m\n\u001b[1;32m    118\u001b[0m     local_model_path\u001b[38;5;241m=\u001b[39mlocal_model_path,\n\u001b[1;32m    119\u001b[0m )\n",
      "File \u001b[0;32m~/.local/share/virtualenvs/project_1-4NMMvVlY/lib/python3.12/site-packages/mlflow/store/artifact/runs_artifact_repo.py:39\u001b[0m, in \u001b[0;36mRunsArtifactRepository.get_underlying_uri\u001b[0;34m(runs_uri)\u001b[0m\n\u001b[1;32m     37\u001b[0m (run_id, artifact_path) \u001b[38;5;241m=\u001b[39m RunsArtifactRepository\u001b[38;5;241m.\u001b[39mparse_runs_uri(runs_uri)\n\u001b[1;32m     38\u001b[0m tracking_uri \u001b[38;5;241m=\u001b[39m get_databricks_profile_uri_from_artifact_uri(runs_uri)\n\u001b[0;32m---> 39\u001b[0m uri \u001b[38;5;241m=\u001b[39m \u001b[43mget_artifact_uri\u001b[49m\u001b[43m(\u001b[49m\u001b[43mrun_id\u001b[49m\u001b[43m,\u001b[49m\u001b[43m \u001b[49m\u001b[43martifact_path\u001b[49m\u001b[43m,\u001b[49m\u001b[43m \u001b[49m\u001b[43mtracking_uri\u001b[49m\u001b[43m)\u001b[49m\n\u001b[1;32m     40\u001b[0m \u001b[38;5;28;01massert\u001b[39;00m \u001b[38;5;129;01mnot\u001b[39;00m RunsArtifactRepository\u001b[38;5;241m.\u001b[39mis_runs_uri(uri)  \u001b[38;5;66;03m# avoid an infinite loop\u001b[39;00m\n\u001b[1;32m     41\u001b[0m \u001b[38;5;28;01mreturn\u001b[39;00m add_databricks_profile_info_to_artifact_uri(uri, tracking_uri)\n",
      "File \u001b[0;32m~/.local/share/virtualenvs/project_1-4NMMvVlY/lib/python3.12/site-packages/mlflow/tracking/artifact_utils.py:52\u001b[0m, in \u001b[0;36mget_artifact_uri\u001b[0;34m(run_id, artifact_path, tracking_uri)\u001b[0m\n\u001b[1;32m     46\u001b[0m     \u001b[38;5;28;01mraise\u001b[39;00m MlflowException(\n\u001b[1;32m     47\u001b[0m         message\u001b[38;5;241m=\u001b[39m\u001b[38;5;124m\"\u001b[39m\u001b[38;5;124mA run_id must be specified in order to obtain an artifact uri!\u001b[39m\u001b[38;5;124m\"\u001b[39m,\n\u001b[1;32m     48\u001b[0m         error_code\u001b[38;5;241m=\u001b[39mINVALID_PARAMETER_VALUE,\n\u001b[1;32m     49\u001b[0m     )\n\u001b[1;32m     51\u001b[0m store \u001b[38;5;241m=\u001b[39m _get_store(tracking_uri)\n\u001b[0;32m---> 52\u001b[0m run \u001b[38;5;241m=\u001b[39m \u001b[43mstore\u001b[49m\u001b[38;5;241;43m.\u001b[39;49m\u001b[43mget_run\u001b[49m\u001b[43m(\u001b[49m\u001b[43mrun_id\u001b[49m\u001b[43m)\u001b[49m\n\u001b[1;32m     53\u001b[0m \u001b[38;5;66;03m# Maybe move this method to RunsArtifactRepository so the circular dependency is clearer.\u001b[39;00m\n\u001b[1;32m     54\u001b[0m \u001b[38;5;28;01massert\u001b[39;00m urllib\u001b[38;5;241m.\u001b[39mparse\u001b[38;5;241m.\u001b[39murlparse(run\u001b[38;5;241m.\u001b[39minfo\u001b[38;5;241m.\u001b[39martifact_uri)\u001b[38;5;241m.\u001b[39mscheme \u001b[38;5;241m!=\u001b[39m \u001b[38;5;124m\"\u001b[39m\u001b[38;5;124mruns\u001b[39m\u001b[38;5;124m\"\u001b[39m  \u001b[38;5;66;03m# avoid an infinite loop\u001b[39;00m\n",
      "File \u001b[0;32m~/.local/share/virtualenvs/project_1-4NMMvVlY/lib/python3.12/site-packages/mlflow/store/tracking/file_store.py:678\u001b[0m, in \u001b[0;36mFileStore.get_run\u001b[0;34m(self, run_id)\u001b[0m\n\u001b[1;32m    674\u001b[0m \u001b[38;5;250m\u001b[39m\u001b[38;5;124;03m\"\"\"\u001b[39;00m\n\u001b[1;32m    675\u001b[0m \u001b[38;5;124;03mNote: Will get both active and deleted runs.\u001b[39;00m\n\u001b[1;32m    676\u001b[0m \u001b[38;5;124;03m\"\"\"\u001b[39;00m\n\u001b[1;32m    677\u001b[0m _validate_run_id(run_id)\n\u001b[0;32m--> 678\u001b[0m run_info \u001b[38;5;241m=\u001b[39m \u001b[38;5;28;43mself\u001b[39;49m\u001b[38;5;241;43m.\u001b[39;49m\u001b[43m_get_run_info\u001b[49m\u001b[43m(\u001b[49m\u001b[43mrun_id\u001b[49m\u001b[43m)\u001b[49m\n\u001b[1;32m    679\u001b[0m \u001b[38;5;28;01mif\u001b[39;00m run_info \u001b[38;5;129;01mis\u001b[39;00m \u001b[38;5;28;01mNone\u001b[39;00m:\n\u001b[1;32m    680\u001b[0m     \u001b[38;5;28;01mraise\u001b[39;00m MlflowException(\n\u001b[1;32m    681\u001b[0m         \u001b[38;5;124mf\u001b[39m\u001b[38;5;124m\"\u001b[39m\u001b[38;5;124mRun \u001b[39m\u001b[38;5;124m'\u001b[39m\u001b[38;5;132;01m{\u001b[39;00mrun_id\u001b[38;5;132;01m}\u001b[39;00m\u001b[38;5;124m'\u001b[39m\u001b[38;5;124m metadata is in invalid state.\u001b[39m\u001b[38;5;124m\"\u001b[39m, databricks_pb2\u001b[38;5;241m.\u001b[39mINVALID_STATE\n\u001b[1;32m    682\u001b[0m     )\n",
      "File \u001b[0;32m~/.local/share/virtualenvs/project_1-4NMMvVlY/lib/python3.12/site-packages/mlflow/store/tracking/file_store.py:702\u001b[0m, in \u001b[0;36mFileStore._get_run_info\u001b[0;34m(self, run_uuid)\u001b[0m\n\u001b[1;32m    700\u001b[0m exp_id, run_dir \u001b[38;5;241m=\u001b[39m \u001b[38;5;28mself\u001b[39m\u001b[38;5;241m.\u001b[39m_find_run_root(run_uuid)\n\u001b[1;32m    701\u001b[0m \u001b[38;5;28;01mif\u001b[39;00m run_dir \u001b[38;5;129;01mis\u001b[39;00m \u001b[38;5;28;01mNone\u001b[39;00m:\n\u001b[0;32m--> 702\u001b[0m     \u001b[38;5;28;01mraise\u001b[39;00m MlflowException(\n\u001b[1;32m    703\u001b[0m         \u001b[38;5;124mf\u001b[39m\u001b[38;5;124m\"\u001b[39m\u001b[38;5;124mRun \u001b[39m\u001b[38;5;124m'\u001b[39m\u001b[38;5;132;01m{\u001b[39;00mrun_uuid\u001b[38;5;132;01m}\u001b[39;00m\u001b[38;5;124m'\u001b[39m\u001b[38;5;124m not found\u001b[39m\u001b[38;5;124m\"\u001b[39m, databricks_pb2\u001b[38;5;241m.\u001b[39mRESOURCE_DOES_NOT_EXIST\n\u001b[1;32m    704\u001b[0m     )\n\u001b[1;32m    705\u001b[0m run_info \u001b[38;5;241m=\u001b[39m \u001b[38;5;28mself\u001b[39m\u001b[38;5;241m.\u001b[39m_get_run_info_from_dir(run_dir)\n\u001b[1;32m    706\u001b[0m \u001b[38;5;28;01mif\u001b[39;00m run_info\u001b[38;5;241m.\u001b[39mexperiment_id \u001b[38;5;241m!=\u001b[39m exp_id:\n",
      "\u001b[0;31mMlflowException\u001b[0m: Run '15d487ad370c4e11bb81beef731b7e88' not found"
     ]
    }
   ],
   "source": [
    "\n",
    "reg_model_meta_data = register_best_model(model_meta_data=best_model_meta_data)\n"
   ]
  },
  {
   "cell_type": "code",
   "execution_count": 19,
   "metadata": {},
   "outputs": [
    {
     "data": {
      "text/plain": [
       "<Run: data=<RunData: metrics={'rmse': 1.9593159814429755}, params={'max_depth': '13',\n",
       " 'min_samples_leaf': '4',\n",
       " 'min_samples_split': '7',\n",
       " 'n_estimators': '43',\n",
       " 'random_state': '42'}, tags={'developer': 'kaustubh',\n",
       " 'mlflow.runName': 'salty-zebra-692',\n",
       " 'mlflow.source.git.commit': 'f909de3afdc3eacf8a5fdcb54b694b44ae15f236',\n",
       " 'mlflow.source.name': 'training_pipeline.py',\n",
       " 'mlflow.source.type': 'LOCAL',\n",
       " 'mlflow.user': 'kaustubh',\n",
       " 'model': 'RF'}>, info=<RunInfo: artifact_uri='/home/kaustubh/mlops_zoomcamp/final_project/project_1/pipeline/mlruns/1/15d487ad370c4e11bb81beef731b7e88/artifacts', end_time=1721739517249, experiment_id='1', lifecycle_stage='active', run_id='15d487ad370c4e11bb81beef731b7e88', run_name='salty-zebra-692', run_uuid='15d487ad370c4e11bb81beef731b7e88', start_time=1721739500832, status='FINISHED', user_id='kaustubh'>, inputs=<RunInputs: dataset_inputs=[]>>"
      ]
     },
     "execution_count": 19,
     "metadata": {},
     "output_type": "execute_result"
    }
   ],
   "source": [
    "best_model_meta_data"
   ]
  },
  {
   "cell_type": "code",
   "execution_count": 20,
   "metadata": {},
   "outputs": [
    {
     "data": {
      "text/plain": [
       "[<RegisteredModel: aliases={}, creation_timestamp=1721714753912, description=None, last_updated_timestamp=1721714753932, latest_versions=[<ModelVersion: aliases=[], creation_timestamp=1721714753932, current_stage='None', description=None, last_updated_timestamp=1721714753932, name='crab-age-predictor', run_id='f65236433a9a457095ad396f4ec3ae9f', run_link=None, source='/home/kaustubh/mlops_zoomcamp/final_project/project_1/pipeline/mlruns/1/f65236433a9a457095ad396f4ec3ae9f/artifacts/model', status='READY', status_message=None, tags={}, user_id=None, version=1>], name='crab-age-predictor', tags={}>]"
      ]
     },
     "execution_count": 20,
     "metadata": {},
     "output_type": "execute_result"
    }
   ],
   "source": [
    "register_models"
   ]
  },
  {
   "cell_type": "code",
   "execution_count": 21,
   "metadata": {},
   "outputs": [
    {
     "name": "stderr",
     "output_type": "stream",
     "text": [
      "/tmp/ipykernel_187211/152756981.py:12: FutureWarning: ``mlflow.tracking.client.MlflowClient.get_latest_versions`` is deprecated since 2.9.0. Model registry stages will be removed in a future major release. To learn more about the deprecation of model registry stages, see our migration guide here: https://mlflow.org/docs/latest/model-registry.html#migrating-from-stages\n",
      "  latest_version = client.get_latest_versions(name=model_name, stages=[stage])\n"
     ]
    }
   ],
   "source": [
    "prod_model = get_latest_version_model()"
   ]
  },
  {
   "cell_type": "code",
   "execution_count": 22,
   "metadata": {},
   "outputs": [
    {
     "data": {
      "text/plain": [
       "[]"
      ]
     },
     "execution_count": 22,
     "metadata": {},
     "output_type": "execute_result"
    }
   ],
   "source": [
    "prod_model"
   ]
  },
  {
   "cell_type": "code",
   "execution_count": 4,
   "metadata": {},
   "outputs": [],
   "source": [
    "from mlflow.entities import ViewType\n",
    "\n",
    "runs = client.search_runs(\n",
    "    experiment_ids='1',\n",
    "    filter_string=\"metrics.rmse < 6.5\",\n",
    "    run_view_type=ViewType.ACTIVE_ONLY,\n",
    "    max_results=20,\n",
    "    order_by=[\"metrics.rmse ASC\"] \n",
    ")"
   ]
  },
  {
   "cell_type": "code",
   "execution_count": 5,
   "metadata": {},
   "outputs": [
    {
     "name": "stdout",
     "output_type": "stream",
     "text": [
      "run-id : 15d487ad370c4e11bb81beef731b7e88, rmse : {'rmse': 1.9593159814429755}\n",
      "\n",
      "run-id : f65236433a9a457095ad396f4ec3ae9f, rmse : {'rmse': 1.9593159814429755}\n",
      "\n",
      "run-id : b8d85576e56e4d52af5750504e195317, rmse : {'rmse': 1.9593159814429755}\n",
      "\n",
      "run-id : 4c9920e50d62474b933b89d68bff695b, rmse : {'rmse': 1.967766410886033}\n",
      "\n",
      "run-id : d306bfe7d3474445b3231f1c1ba5972f, rmse : {'rmse': 1.967766410886033}\n",
      "\n",
      "run-id : 1849064b41ff40a1b816a687c5d5d8cf, rmse : {'rmse': 1.967766410886033}\n",
      "\n",
      "run-id : c9b3257fc1f049b78d3558b5cfc66017, rmse : {'rmse': 2.1628432318151782}\n",
      "\n",
      "run-id : 24ca0440ac6f44158c22e648646ec553, rmse : {'rmse': 2.1628432318151782}\n",
      "\n",
      "run-id : fe65872598dc41c5a52a995165f36c75, rmse : {'rmse': 2.1628432318151782}\n",
      "\n",
      "run-id : ae40b93ad3f7464e9be4d25c88c74c3f, rmse : {'rmse': 2.401021703429892}\n",
      "\n",
      "run-id : aa5d208272bd4985b68f0ee8a2d32e4c, rmse : {'rmse': 2.401021703429892}\n",
      "\n",
      "run-id : 8ebce9d1173644b28fb75c3132424af6, rmse : {'rmse': 2.401021703429892}\n",
      "\n"
     ]
    }
   ],
   "source": [
    "for run in runs:\n",
    "    \n",
    "    \n",
    "    print(f\"run-id : {run.info.run_id}, rmse : {run.data.metrics}\" , end=\"\\n\\n\")"
   ]
  },
  {
   "cell_type": "code",
   "execution_count": null,
   "metadata": {},
   "outputs": [],
   "source": []
  }
 ],
 "metadata": {
  "kernelspec": {
   "display_name": "project_1-4NMMvVlY",
   "language": "python",
   "name": "python3"
  },
  "language_info": {
   "codemirror_mode": {
    "name": "ipython",
    "version": 3
   },
   "file_extension": ".py",
   "mimetype": "text/x-python",
   "name": "python",
   "nbconvert_exporter": "python",
   "pygments_lexer": "ipython3",
   "version": "3.12.3"
  }
 },
 "nbformat": 4,
 "nbformat_minor": 2
}
